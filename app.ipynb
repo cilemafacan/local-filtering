{
 "cells": [
  {
   "cell_type": "code",
   "execution_count": 1,
   "metadata": {},
   "outputs": [],
   "source": [
    "from PIL import Image\n",
    "import numpy as np"
   ]
  },
  {
   "cell_type": "code",
   "execution_count": null,
   "metadata": {},
   "outputs": [],
   "source": [
    "input_image = Image.open(\"images/medium.png\")\n",
    "\n",
    "print(\"Image size: \", input_image.size)\n",
    "print(\"Image mode: \", input_image.mode)"
   ]
  },
  {
   "cell_type": "code",
   "execution_count": 3,
   "metadata": {},
   "outputs": [],
   "source": [
    "def mean_filter(input_image, kernel_size):\n",
    "    image = np.array(input_image)\n",
    "    kernel = np.ones((kernel_size, kernel_size)) / kernel_size**2\n",
    "    image_mean = np.zeros((image.shape[0] - kernel_size + 1, image.shape[1] - kernel_size + 1, image.shape[2]))\n",
    "    print(image_mean.shape)\n",
    "    for i in range(0, image.shape[0] - kernel_size + 1):\n",
    "        for j in range(0, image.shape[1] - kernel_size + 1):\n",
    "            for c in range(0, image.shape[2]):\n",
    "                image_mean[i, j, c] = np.sum(image[i:i+kernel_size, j:j+kernel_size, c] * kernel)\n",
    "    return Image.fromarray(np.uint8(image_mean))"
   ]
  },
  {
   "cell_type": "code",
   "execution_count": 4,
   "metadata": {},
   "outputs": [],
   "source": [
    "def median_filter(input_image, kernel_size):\n",
    "    image = np.array(input_image)\n",
    "    image_median = np.zeros((image.shape[0] - kernel_size + 1, image.shape[1] - kernel_size + 1, image.shape[2]))\n",
    "    for i in range(0, image.shape[0] - kernel_size + 1):\n",
    "        for j in range(0, image.shape[1] - kernel_size + 1):\n",
    "            for c in range(0, image.shape[2]):\n",
    "                image_median[i, j, c] = np.median(image[i:i+kernel_size, j:j+kernel_size, c])\n",
    "    return Image.fromarray(np.uint8(image_median))"
   ]
  },
  {
   "cell_type": "code",
   "execution_count": 5,
   "metadata": {},
   "outputs": [],
   "source": [
    "def std_filter(input_image, kernel_size):\n",
    "    image = np.array(input_image)\n",
    "    image_std = np.zeros((image.shape[0] - kernel_size + 1, image.shape[1] - kernel_size + 1, image.shape[2]))\n",
    "    for i in range(0, image.shape[0] - kernel_size + 1):\n",
    "        for j in range(0, image.shape[1] - kernel_size + 1):    \n",
    "            for c in range(0, image.shape[2]):\n",
    "                std = np.std(image[i:i+kernel_size, j:j+kernel_size, c])\n",
    "                image_std[i, j, c] = std\n",
    "    \n",
    "    image_std = (image_std - np.min(image_std)) / (np.max(image_std) - np.min(image_std)) * 255\n",
    "    return Image.fromarray(np.uint8(image_std))"
   ]
  },
  {
   "cell_type": "code",
   "execution_count": 6,
   "metadata": {},
   "outputs": [],
   "source": [
    "def padding(input_image, kernel_size):\n",
    "    image = np.array(input_image)\n",
    "    padding = kernel_size // 2\n",
    "    image_padded = np.pad(image, ((padding, padding), (padding, padding), (0, 0)), mode='reflect')\n",
    "    image_padded[padding:-padding, padding:-padding] = image\n",
    "    return image_padded"
   ]
  },
  {
   "cell_type": "code",
   "execution_count": null,
   "metadata": {},
   "outputs": [],
   "source": [
    "kernel_size =[3, 5, 7]\n",
    "for i in kernel_size:\n",
    "    padded_image = padding(input_image, i)\n",
    "    mean_image = mean_filter(padded_image, i)\n",
    "    mean_image.save(\"images/medium_mean_filter_\" + str(i) + \".png\")\n",
    "    median_image = median_filter(padded_image, i)\n",
    "    median_image.save(\"images/medium_median_filter_\" + str(i) + \".png\")\n",
    "    std_image = std_filter(padded_image, i)\n",
    "    std_image.save(\"images/medium_std_filter_\" + str(i) + \".png\")\n",
    "\n",
    "print(\"Done!\")"
   ]
  },
  {
   "cell_type": "code",
   "execution_count": 8,
   "metadata": {},
   "outputs": [],
   "source": [
    "padded_image = padding(input_image, 3)\n",
    "pil_image = Image.fromarray(np.uint8(padded_image))\n",
    "pil_image.save(\"images/medium_padded.png\")"
   ]
  }
 ],
 "metadata": {
  "kernelspec": {
   "display_name": "Python 3",
   "language": "python",
   "name": "python3"
  },
  "language_info": {
   "codemirror_mode": {
    "name": "ipython",
    "version": 3
   },
   "file_extension": ".py",
   "mimetype": "text/x-python",
   "name": "python",
   "nbconvert_exporter": "python",
   "pygments_lexer": "ipython3",
   "version": "3.12.7"
  }
 },
 "nbformat": 4,
 "nbformat_minor": 2
}
